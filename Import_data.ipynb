{
 "cells": [
  {
   "cell_type": "code",
   "execution_count": 6,
   "id": "d7bfa542",
   "metadata": {},
   "outputs": [],
   "source": [
    "import pandas as pd\n",
    "\n",
    "# This is for macroeconomic indicators\n",
    "df_gdp_per_capita = pd.read_csv('GDP per capita (PPP).csv')\n",
    "df_gdp_growth_rate = pd.read_csv('GDP growth rate.csv')\n",
    "df_FCE = pd.read_csv('Final consumption expenditure.csv')\n",
    "df_gov_debt = pd.read_excel('Government debt.xls')\n",
    "df_inflation = pd.read_csv('Inflation annually.csv')"
   ]
  },
  {
   "cell_type": "code",
   "execution_count": null,
   "id": "a042b175",
   "metadata": {},
   "outputs": [],
   "source": [
    "# This is for Human Capital\n",
    "df_labour_force =pd.read_csv('Labour Force Participant Rate.csv')\n",
    "df_life_expectancy_at_birth = pd.read_csv('Life expectancy at birth.csv')\n",
    "df_school_enrollment = pd.read_csv('School enrollment.csv')\n",
    "df_unemployment_rate = pd.read_excel('Unemployment rate.xls')"
   ]
  },
  {
   "cell_type": "code",
   "execution_count": 8,
   "id": "8a0ffd89",
   "metadata": {},
   "outputs": [],
   "source": [
    "#This is for infrastructure and Technology\n",
    "\n",
    "df_access_to_electricity = pd.read_csv('Access to electricity.csv')\n",
    "df_access_to_internet = pd.read_csv('indivisual using the internet.csv')\n",
    "df_mobile_subscriptions = pd.read_csv('Mobile cellular subscriptions.csv')\n",
    "df_LPI_Score = pd.read_excel('LPI Score.xlsx')\n"
   ]
  },
  {
   "cell_type": "code",
   "execution_count": 13,
   "id": "547f062b",
   "metadata": {},
   "outputs": [],
   "source": [
    "# This is for Institution and Political Factors\n",
    "df_CPI = pd.read_excel(\"CPI2023_Global_Results__Trends.xlsx\",skiprows=3, engine='openpyxl')\n",
    "\n",
    "\n",
    "df_political_stability = pd.read_csv(\"Political Stability and Absence of ViolenceTerrorism Percentile Rank.csv\")\n",
    "\n",
    "# This is for WGI data set we will only be using the regulatory quality\n",
    "df_wgi_data_set = pd.read_excel(\"wgidataset.xlsx\")"
   ]
  },
  {
   "cell_type": "code",
   "execution_count": 11,
   "id": "43ec0784",
   "metadata": {},
   "outputs": [],
   "source": [
    "#This is the Trade and Environmental factors\n",
    "df_current_account_balance = pd.read_csv(\"current accoung balance (Macroeconomic Indicators ).csv\")\n",
    "df_exports = pd.read_csv(\"Exports of goods and services.csv\")\n",
    "df_imports = pd.read_csv(\"Imports of goods and services.csv\")"
   ]
  },
  {
   "cell_type": "code",
   "execution_count": 12,
   "id": "50ef27d0",
   "metadata": {},
   "outputs": [],
   "source": [
    "#This is the environmental and sustainability\n",
    "\n",
    "df_CO2_emissions = pd.read_csv(\"CO2 Emission.csv\")\n",
    "df_CO2_emissions_per_capita = pd.read_csv(\"CO2 Emission per capita.csv\")\n",
    "df_renewable_energy_consumption = pd.read_csv(\"Renewable energy consumption.csv\")"
   ]
  }
 ],
 "metadata": {
  "kernelspec": {
   "display_name": "Python 3",
   "language": "python",
   "name": "python3"
  },
  "language_info": {
   "codemirror_mode": {
    "name": "ipython",
    "version": 3
   },
   "file_extension": ".py",
   "mimetype": "text/x-python",
   "name": "python",
   "nbconvert_exporter": "python",
   "pygments_lexer": "ipython3",
   "version": "3.10.7"
  }
 },
 "nbformat": 4,
 "nbformat_minor": 5
}
