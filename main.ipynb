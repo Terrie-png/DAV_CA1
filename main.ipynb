{
 "cells": [
  {
   "cell_type": "markdown",
   "metadata": {},
   "source": [
    "# 1. Theoretical Framework\n"
   ]
  },
  {
   "cell_type": "markdown",
   "metadata": {},
   "source": [
    "\n",
    "## 1. Objective of the index\n",
    "The goal of this index is to create "
   ]
  },
  {
   "cell_type": "markdown",
   "metadata": {},
   "source": [
    "# Import Required Packages"
   ]
  },
  {
   "cell_type": "code",
   "execution_count": 72,
   "metadata": {},
   "outputs": [],
   "source": [
    "import statsmodels.api as sm\n",
    "import seaborn as sns\n",
    "import matplotlib.pyplot as plt\n",
    "import pandas as pd\n",
    "import os"
   ]
  },
  {
   "cell_type": "markdown",
   "metadata": {},
   "source": [
    "# 2. Data Selection - Importing Data"
   ]
  },
  {
   "cell_type": "code",
   "execution_count": 73,
   "metadata": {},
   "outputs": [],
   "source": [
    "# This is for macroeconomic indicators\n",
    "df_gdp_per_capita = pd.read_csv('GDP per capita (PPP).csv')\n",
    "df_gdp_growth_rate = pd.read_csv('GDP growth rate.csv')\n",
    "df_FCE = pd.read_csv('Final consumption expenditure.csv')\n",
    "df_gov_debt = pd.read_excel('Government debt.xls')\n",
    "df_inflation = pd.read_csv('Inflation annually.csv')"
   ]
  },
  {
   "cell_type": "code",
   "execution_count": 74,
   "metadata": {},
   "outputs": [],
   "source": [
    "#This is the Trade and Investment factors\n",
    "df_current_account_balance = pd.read_csv(\"current accoung balance (Macroeconomic Indicators ).csv\")\n",
    "df_exports = pd.read_csv(\"Exports of goods and services.csv\")\n",
    "df_imports = pd.read_csv(\"Imports of goods and services.csv\")"
   ]
  },
  {
   "cell_type": "code",
   "execution_count": 75,
   "metadata": {},
   "outputs": [],
   "source": [
    "# This is for Human Capital\n",
    "df_labour_force =pd.read_csv('Labour Force Participant Rate.csv')\n",
    "df_life_expectancy_at_birth = pd.read_csv('Life expectancy at birth.csv')\n",
    "df_school_enrollment = pd.read_csv('School enrollment.csv')\n",
    "df_unemployment_rate = pd.read_excel('Unemployment rate.xls')"
   ]
  },
  {
   "cell_type": "code",
   "execution_count": 76,
   "metadata": {},
   "outputs": [],
   "source": [
    "#This is for infrastructure and Technology\n",
    "\n",
    "df_access_to_electricity = pd.read_csv('Access to electricity.csv')\n",
    "df_access_to_internet = pd.read_csv('indivisual using the internet.csv')\n",
    "df_mobile_subscriptions = pd.read_csv('Mobile cellular subscriptions.csv')\n",
    "df_LPI_Score = pd.read_excel('LPI Score.xlsx')\n"
   ]
  },
  {
   "cell_type": "code",
   "execution_count": 77,
   "metadata": {},
   "outputs": [],
   "source": [
    "# This is for Institution and Political Factors\n",
    "df_CPI = pd.read_excel(\"CPI2023_Global_Results__Trends.xlsx\",skiprows=3, engine='openpyxl')\n",
    "df_political_stability = pd.read_csv(\"Political Stability and Absence of ViolenceTerrorism Percentile Rank.csv\")\n",
    "\n",
    "# This is for WGI data set we will only be using the regulatory quality\n",
    "df_regulatory_quality = pd.read_excel(\"wgidataset.xlsx\")"
   ]
  },
  {
   "cell_type": "code",
   "execution_count": 78,
   "metadata": {},
   "outputs": [],
   "source": [
    "#This is the environmental and sustainability\n",
    "\n",
    "df_CO2_emissions = pd.read_csv(\"CO2 Emission.csv\")\n",
    "df_CO2_emissions_per_capita = pd.read_csv(\"CO2 Emission per capita.csv\")\n",
    "df_renewable_energy_consumption = pd.read_csv(\"Renewable energy consumption.csv\")"
   ]
  },
  {
   "cell_type": "markdown",
   "metadata": {},
   "source": [
    "# 3. Imputing of Missing Datas"
   ]
  },
  {
   "cell_type": "code",
   "execution_count": 79,
   "metadata": {},
   "outputs": [],
   "source": [
    "# This is for the data cleaning process\n",
    "dataframes = [df_gdp_growth_rate, df_gdp_per_capita, df_FCE, df_gov_debt, df_inflation,\n",
    "              df_current_account_balance, df_exports, df_imports, df_labour_force,\n",
    "              df_life_expectancy_at_birth, df_school_enrollment, df_unemployment_rate,\n",
    "              df_access_to_electricity, df_access_to_internet, df_mobile_subscriptions,\n",
    "              df_LPI_Score, df_CPI, df_political_stability, df_regulatory_quality,\n",
    "              df_CO2_emissions, df_CO2_emissions_per_capita, df_renewable_energy_consumption]\n",
    "\n",
    "\n",
    "# This is to remove the unwanted data from the dataframes\n",
    "for df in dataframes:\n",
    "  df.replace([\"..\",\"...\", \"no data\"], pd.NA, inplace=True)  # or np.nan if you're using numpy\n"
   ]
  },
  {
   "cell_type": "code",
   "execution_count": 80,
   "metadata": {},
   "outputs": [
    {
     "name": "stdout",
     "output_type": "stream",
     "text": [
      "The number of missing values in each dataset:\n",
      "GDP per capita (PPP): 56\n",
      "GDP growth rate: 19\n",
      "Final consumption expenditure: 542\n",
      "Government debt: 7\n",
      "Inflation annually: 84\n",
      "Current account balance: 20\n",
      "Exports of goods and services: 64\n",
      "Imports of goods and services: 64\n",
      "Labour Force Participant Rate: 191\n",
      "Life expectancy at birth: 0\n",
      "School enrollment: 162\n",
      "Unemployment rate: 156\n",
      "Access to electricity: 9\n",
      "Access to internet: 74\n",
      "Mobile cellular subscriptions: 67\n",
      "LPI Score: 0\n",
      "CPI: 1093\n",
      "Political Stability and Absence of ViolenceTerrorism Percentile Rank: 27\n",
      "WGI dataset: 6756\n",
      "CO2 Emission: 0\n",
      "CO2 Emission per capita: 0\n",
      "Renewable energy consumption: 67\n"
     ]
    }
   ],
   "source": [
    "# Print sum of all missing valeues\n",
    "def check_missing_values():\n",
    "  print(\"The number of missing values in each dataset:\")\n",
    "  print(\"GDP per capita (PPP):\", df_gdp_per_capita.isnull().sum().sum())\n",
    "  print(\"GDP growth rate:\", df_gdp_growth_rate.isnull().sum().sum())\n",
    "  print(\"Final consumption expenditure:\", df_FCE.isnull().sum().sum())\n",
    "  print(\"Government debt:\", df_gov_debt.isnull().sum().sum())\n",
    "  print(\"Inflation annually:\", df_inflation.isnull().sum().sum())\n",
    "  print(\"Current account balance:\", df_current_account_balance.isnull().sum().sum())\n",
    "  print(\"Exports of goods and services:\", df_exports.isnull().sum().sum())\n",
    "  print(\"Imports of goods and services:\", df_imports.isnull().sum().sum())\n",
    "  print(\"Labour Force Participant Rate:\", df_labour_force.isnull().sum().sum())\n",
    "  print(\"Life expectancy at birth:\", df_life_expectancy_at_birth.isnull().sum().sum())\n",
    "  print(\"School enrollment:\", df_school_enrollment.isnull().sum().sum())\n",
    "  print(\"Unemployment rate:\", df_unemployment_rate.isnull().sum().sum())\n",
    "  print(\"Access to electricity:\", df_access_to_electricity.isnull().sum().sum())\n",
    "  print(\"Access to internet:\", df_access_to_internet.isnull().sum().sum())\n",
    "  print(\"Mobile cellular subscriptions:\", df_mobile_subscriptions.isnull().sum().sum())\n",
    "  print(\"LPI Score:\", df_LPI_Score.isnull().sum().sum())\n",
    "  print(\"CPI:\", df_CPI.isnull().sum().sum())\n",
    "  print(\"Political Stability and Absence of ViolenceTerrorism Percentile Rank:\", df_political_stability.isnull().sum().sum())\n",
    "  print(\"WGI dataset:\", df_regulatory_quality.isnull().sum().sum())\n",
    "  print(\"CO2 Emission:\", df_CO2_emissions.isnull().sum().sum())\n",
    "  print(\"CO2 Emission per capita:\", df_CO2_emissions_per_capita.isnull().sum().sum())\n",
    "  print(\"Renewable energy consumption:\", df_renewable_energy_consumption.isnull().sum().sum())\n",
    "  \n",
    "check_missing_values()\n"
   ]
  },
  {
   "cell_type": "code",
   "execution_count": 81,
   "metadata": {},
   "outputs": [],
   "source": [
    "removed_countries = []"
   ]
  },
  {
   "cell_type": "code",
   "execution_count": 82,
   "metadata": {},
   "outputs": [],
   "source": [
    "removed_countries = []\n",
    "country_included = None  # Set to None so we know if this is the first call\n",
    "\n",
    "def clean_dataframe(df, country_col=\"Country Name\"):\n",
    "    global removed_countries, country_included\n",
    "\n",
    "    # Step 1: Identify year columns\n",
    "    year_columns = [col for col in df.columns if str(col).isdigit() and int(col) <= 2023]\n",
    "    year_columns = sorted(year_columns, reverse=True)\n",
    "\n",
    "    # Step 2: Convert year columns to numeric\n",
    "    for col in year_columns:\n",
    "        df[col] = pd.to_numeric(df[col], errors='coerce')\n",
    "\n",
    "    # Step 3: Restrict to previously included countries, if any\n",
    "    if country_included is not None:\n",
    "        df = df[df[country_col].isin(country_included)].copy()\n",
    "\n",
    "    # Step 4: Identify and record countries to remove\n",
    "    missing_counts = df[year_columns].isna().sum(axis=1)\n",
    "    to_remove = df[missing_counts >= 5]\n",
    "    removed_countries += to_remove[country_col].dropna().tolist()\n",
    "\n",
    "    # Step 5: Drop rows from removed countries\n",
    "    df = df[~df[country_col].isin(removed_countries)].copy()\n",
    "\n",
    "    # Step 6: Update country_included if it's the first dataset\n",
    "    if country_included is None:\n",
    "        country_included = df[country_col].dropna().unique().tolist()\n",
    "\n",
    "    # Step 7: Fill missing year values with row mean\n",
    "    def fill_row_mean(row):\n",
    "        row[year_columns] = row[year_columns].fillna(row[year_columns].mean())\n",
    "        return row\n",
    "\n",
    "    df = df.apply(fill_row_mean, axis=1)\n",
    "    \n",
    "    return df\n"
   ]
  },
  {
   "cell_type": "code",
   "execution_count": 83,
   "metadata": {},
   "outputs": [],
   "source": [
    "df_gdp_per_capita = clean_dataframe(df_gdp_per_capita)\n",
    "df_gdp_growth_rate = clean_dataframe(df_gdp_growth_rate)\n",
    "df_FCE = clean_dataframe(df_FCE)\n",
    "df_gov_debt = clean_dataframe(df_gov_debt)\n",
    "df_inflation = clean_dataframe(df_inflation)\n",
    "\n",
    "\n",
    "df_gdp_per_capita = df_gdp_per_capita[['Country Name', \"2023\"]].rename(columns={\"2023\": 'gdp_per_capita_2023'})\n",
    "df_gdp_growth_rate = df_gdp_growth_rate[['Country Name', \"2023\"]].rename(columns={\"2023\": 'gdp_growth_rate_2023'})\n",
    "df_FCE = df_FCE[['Country Name', \"2023\"]].rename(columns={\"2023\": 'final_consumption_expenditure_2023'})\n",
    "\n",
    "df_gov_debt = df_gov_debt[['Country Name', 2023]].rename(columns={2023: 'government_debt_2023'})\n",
    "df_inflation = df_inflation[['Country Name', \"2023\"]].rename(columns={\"2023\": 'inflation_rate_2023'})\n"
   ]
  },
  {
   "cell_type": "code",
   "execution_count": 84,
   "metadata": {},
   "outputs": [],
   "source": [
    "df_current_account_balance = clean_dataframe(df_current_account_balance)\n",
    "df_exports = clean_dataframe(df_exports)\n",
    "df_imports = clean_dataframe(df_imports)\n",
    "\n",
    "df_current_account_balance = df_current_account_balance[['Country Name', \"2023\"]].rename(columns={\"2023\": 'current_account_balance_2023'})\n",
    "df_exports = df_exports[['Country Name', \"2023\"]].rename(columns={\"2023\": 'exports_2023'})\n",
    "df_imports = df_imports[['Country Name', \"2023\"]].rename(columns={\"2023\": 'imports_2023'})"
   ]
  },
  {
   "cell_type": "code",
   "execution_count": 85,
   "metadata": {},
   "outputs": [],
   "source": [
    "df_labour_force = clean_dataframe(df_labour_force)\n",
    "df_life_expectancy_at_birth = clean_dataframe(df_life_expectancy_at_birth)\n",
    "df_school_enrollment = clean_dataframe(df_school_enrollment)\n",
    "df_unemployment_rate = clean_dataframe(df_unemployment_rate)\n",
    "\n",
    "df_labour_force = df_labour_force[['Country Name', \"2023\"]].rename(columns={\"2023\": 'labour_force_participation_rate_2023'})\n",
    "df_life_expectancy_at_birth = df_life_expectancy_at_birth[['Country Name', \"2023\"]].rename(columns={\"2023\": 'life_expectancy_at_birth_2023'})\n",
    "df_school_enrollment = df_school_enrollment[['Country Name', \"2023\"]].rename(columns={\"2023\": 'school_enrollment_rate_2023'})\n",
    "df_unemployment_rate = df_unemployment_rate[['Country Name', 2023]].rename(columns={2023: 'unemployment_rate_2023'})"
   ]
  },
  {
   "cell_type": "code",
   "execution_count": 86,
   "metadata": {},
   "outputs": [],
   "source": [
    "df_access_to_electricity = clean_dataframe(df_access_to_electricity)\n",
    "df_access_to_internet = clean_dataframe(df_access_to_internet)\n",
    "df_mobile_subscriptions = clean_dataframe(df_mobile_subscriptions)\n",
    "\n",
    "df_access_to_electricity = df_access_to_electricity[['Country Name', \"2023\"]].rename(columns={\"2023\": 'access_to_electricity_2023'})\n",
    "df_access_to_internet = df_access_to_internet[['Country Name', \"2023\"]].rename(columns={\"2023\": 'access_to_internet_2023'})\n",
    "df_mobile_subscriptions = df_mobile_subscriptions[['Country Name', \"2023\"]].rename(columns={\"2023\": 'mobile_subscriptions_2023'})"
   ]
  },
  {
   "cell_type": "code",
   "execution_count": 87,
   "metadata": {},
   "outputs": [
    {
     "name": "stderr",
     "output_type": "stream",
     "text": [
      "C:\\Users\\DEcla\\AppData\\Local\\Temp\\ipykernel_36416\\2614403127.py:2: SettingWithCopyWarning: \n",
      "A value is trying to be set on a copy of a slice from a DataFrame\n",
      "\n",
      "See the caveats in the documentation: https://pandas.pydata.org/pandas-docs/stable/user_guide/indexing.html#returning-a-view-versus-a-copy\n",
      "  df_LPI_Score.rename(columns={\n"
     ]
    }
   ],
   "source": [
    "df_LPI_Score = df_LPI_Score[[\"Economy\", \"LPI Score\"]]\n",
    "df_LPI_Score.rename(columns={\n",
    "    \"Economy\": \"Country Name\",\n",
    "    \"LPI Score\": \"lpi_score_2023\"\n",
    "}, inplace=True)\n"
   ]
  },
  {
   "cell_type": "code",
   "execution_count": 88,
   "metadata": {},
   "outputs": [],
   "source": [
    "df_CPI = df_CPI[df_CPI['Country / Territory'].isin(country_included)][['Country / Territory', 'CPI score 2023']]\n",
    "df_CPI.rename(columns={\n",
    "    \"Country / Territory\": \"Country Name\",\n",
    "    \"CPI score 2023\": \"cpi_score_2023\"\n",
    "}, inplace=True)\n",
    "\n",
    "df_political_stability  = clean_dataframe(df_political_stability, country_col=\"Country Name\")\n",
    "df_political_stability = df_political_stability[['Country Name', \"2023\"]].rename(columns={\"2023\": 'political_stability_2023'})\n",
    "\n",
    "df_regulatory_quality = df_regulatory_quality[\n",
    "    (df_regulatory_quality['indicator'] == 'rq') &\n",
    "    (df_regulatory_quality['year'] > 2014) & \n",
    "    (df_regulatory_quality['year'] < 2023) & df_regulatory_quality['countryname'].isin(country_included) \n",
    "]\n",
    "\n",
    "df_regulatory_quality = (\n",
    "    df_regulatory_quality\n",
    "    .groupby('countryname')['estimate']\n",
    "    .mean()\n",
    "    .reset_index()\n",
    "    .rename(columns={'estimate': 'regulatory_quality_2023', 'countryname': 'Country Name'})\n",
    ")\n",
    "\n",
    "\n"
   ]
  },
  {
   "cell_type": "code",
   "execution_count": 89,
   "metadata": {},
   "outputs": [],
   "source": [
    "df_CO2_emissions = clean_dataframe(df_CO2_emissions)\n",
    "df_CO2_emissions_per_capita = clean_dataframe(df_CO2_emissions_per_capita)\n",
    "df_renewable_energy_consumption = clean_dataframe(df_renewable_energy_consumption)\n",
    "\n",
    "df_CO2_emissions = df_CO2_emissions[['Country Name', \"2023\"]].rename(columns={\"2023\": 'co2_emissions_2023'})\n",
    "df_CO2_emissions_per_capita = df_CO2_emissions_per_capita[['Country Name', \"2023\"]].rename(columns={\"2023\": 'co2_emissions_per_capita_2023'})\n",
    "df_renewable_energy_consumption = df_renewable_energy_consumption[['Country Name', \"2023\"]].rename(columns={\"2023\": 'renewable_energy_consumption_2023'})"
   ]
  },
  {
   "cell_type": "code",
   "execution_count": 90,
   "metadata": {},
   "outputs": [
    {
     "name": "stdout",
     "output_type": "stream",
     "text": [
      "The number of missing values in each dataset:\n",
      "GDP per capita (PPP): 0\n",
      "GDP growth rate: 0\n",
      "Final consumption expenditure: 0\n",
      "Government debt: 0\n",
      "Inflation annually: 0\n",
      "Current account balance: 0\n",
      "Exports of goods and services: 0\n",
      "Imports of goods and services: 0\n",
      "Labour Force Participant Rate: 0\n",
      "Life expectancy at birth: 0\n",
      "School enrollment: 0\n",
      "Unemployment rate: 0\n",
      "Access to electricity: 0\n",
      "Access to internet: 0\n",
      "Mobile cellular subscriptions: 0\n",
      "LPI Score: 0\n",
      "CPI: 0\n",
      "Political Stability and Absence of ViolenceTerrorism Percentile Rank: 0\n",
      "WGI dataset: 0\n",
      "CO2 Emission: 0\n",
      "CO2 Emission per capita: 0\n",
      "Renewable energy consumption: 0\n"
     ]
    }
   ],
   "source": [
    "check_missing_values()"
   ]
  },
  {
   "cell_type": "code",
   "execution_count": 91,
   "metadata": {},
   "outputs": [
    {
     "name": "stdout",
     "output_type": "stream",
     "text": [
      "  Country Name  gdp_per_capita_2023  gdp_growth_rate_2023  \\\n",
      "0    Australia          70497.15245              3.441992   \n",
      "1    Australia          70497.15245              3.441992   \n",
      "2    Australia          70497.15245              3.441992   \n",
      "3    Australia          70497.15245              3.441992   \n",
      "4    Australia          70497.15245              3.441992   \n",
      "\n",
      "   final_consumption_expenditure_2023  government_debt_2023  \\\n",
      "0                           71.652646             34.832823   \n",
      "1                           21.313855             34.832823   \n",
      "2                           50.338791             34.832823   \n",
      "3                           23.974017             34.832823   \n",
      "4                           26.799241             34.832823   \n",
      "\n",
      "   inflation_rate_2023  \n",
      "0             5.597015  \n",
      "1             5.597015  \n",
      "2             5.597015  \n",
      "3             5.597015  \n",
      "4             5.597015  \n"
     ]
    }
   ],
   "source": [
    "\n",
    "from functools import reduce\n",
    "dfs = [df_gdp_per_capita, df_gdp_growth_rate, df_FCE, df_gov_debt, df_inflation]\n",
    "df_combined = reduce(lambda left, right: pd.merge(left, right, on='Country Name', how='inner'), dfs)\n",
    "\n",
    "print(df_combined.head())\n"
   ]
  }
 ],
 "metadata": {
  "kernelspec": {
   "display_name": "Python 3",
   "language": "python",
   "name": "python3"
  },
  "language_info": {
   "codemirror_mode": {
    "name": "ipython",
    "version": 3
   },
   "file_extension": ".py",
   "mimetype": "text/x-python",
   "name": "python",
   "nbconvert_exporter": "python",
   "pygments_lexer": "ipython3",
   "version": "3.10.7"
  }
 },
 "nbformat": 4,
 "nbformat_minor": 2
}
