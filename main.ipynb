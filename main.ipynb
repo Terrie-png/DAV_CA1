{
 "cells": [
  {
   "cell_type": "markdown",
   "metadata": {},
   "source": [
    "# 1. Theoretical Framework\n"
   ]
  },
  {
   "cell_type": "markdown",
   "metadata": {},
   "source": [
    "\n",
    "## 1. Objective of the index\n",
    "The goal of this index is to create "
   ]
  },
  {
   "cell_type": "markdown",
   "metadata": {},
   "source": [
    "# Import Required Packages"
   ]
  },
  {
   "cell_type": "code",
   "execution_count": 1056,
   "metadata": {},
   "outputs": [],
   "source": [
    "import statsmodels.api as sm\n",
    "import seaborn as sns\n",
    "import matplotlib.pyplot as plt\n",
    "import pandas as pd\n",
    "import os"
   ]
  },
  {
   "cell_type": "markdown",
   "metadata": {},
   "source": [
    "# 2. Data Selection - Importing Data"
   ]
  },
  {
   "cell_type": "code",
   "execution_count": 1057,
   "metadata": {},
   "outputs": [],
   "source": [
    "# This is for macroeconomic indicators\n",
    "df_gdp_per_capita = pd.read_csv('GDP per capita (PPP).csv')\n",
    "df_gdp_growth_rate = pd.read_csv('GDP growth rate.csv')\n",
    "df_FCE = pd.read_csv('Final consumption expenditure.csv')\n",
    "df_gov_debt = pd.read_excel('Government debt.xls')\n",
    "df_inflation = pd.read_csv('Inflation annually.csv')"
   ]
  },
  {
   "cell_type": "code",
   "execution_count": 1058,
   "metadata": {},
   "outputs": [
    {
     "name": "stdout",
     "output_type": "stream",
     "text": [
      "0        no data\n",
      "1      34.832823\n",
      "2      39.336605\n",
      "3     116.064891\n",
      "4       2.329216\n",
      "5      79.602279\n",
      "6        no data\n",
      "7      56.048101\n",
      "8      38.984028\n",
      "9     205.613846\n",
      "10     48.852372\n",
      "11    115.876383\n",
      "12     59.116753\n",
      "13    123.143218\n",
      "14     45.790078\n",
      "15     59.655034\n",
      "16     47.124195\n",
      "17     45.772094\n",
      "18     77.290714\n",
      "19     52.048037\n",
      "20     33.426103\n",
      "21    177.157815\n",
      "22     20.898315\n",
      "23       no data\n",
      "24      32.21002\n",
      "25     54.274837\n",
      "26     14.123071\n",
      "27     41.148784\n",
      "28      7.533489\n",
      "29       no data\n",
      "Name: 2023, dtype: object\n"
     ]
    }
   ],
   "source": [
    "print(df_gov_debt[2023])"
   ]
  },
  {
   "cell_type": "code",
   "execution_count": 1059,
   "metadata": {},
   "outputs": [],
   "source": [
    "#This is the Trade and Investment factors\n",
    "df_current_account_balance = pd.read_csv(\"current accoung balance (Macroeconomic Indicators ).csv\")\n",
    "df_exports = pd.read_csv(\"Exports of goods and services.csv\")\n",
    "df_imports = pd.read_csv(\"Imports of goods and services.csv\")"
   ]
  },
  {
   "cell_type": "code",
   "execution_count": 1060,
   "metadata": {},
   "outputs": [],
   "source": [
    "# This is for Human Capital\n",
    "df_labour_force =pd.read_csv('Labour Force Participant Rate.csv')\n",
    "df_life_expectancy_at_birth = pd.read_csv('Life expectancy at birth.csv')\n",
    "df_school_enrollment = pd.read_csv('School enrollment.csv')\n",
    "df_unemployment_rate = pd.read_csv('Unemployment rate.csv')\n"
   ]
  },
  {
   "cell_type": "code",
   "execution_count": 1061,
   "metadata": {},
   "outputs": [],
   "source": [
    "#This is for infrastructure and Technology\n",
    "\n",
    "df_access_to_electricity = pd.read_csv('Access to electricity.csv')\n",
    "df_access_to_internet = pd.read_csv('indivisual using the internet.csv')\n",
    "df_mobile_subscriptions = pd.read_csv('Mobile cellular subscriptions.csv')\n",
    "df_LPI_Score = pd.read_excel('LPI Score.xlsx')\n"
   ]
  },
  {
   "cell_type": "code",
   "execution_count": 1062,
   "metadata": {},
   "outputs": [],
   "source": [
    "# This is for Institution and Political Factors\n",
    "df_CPI = pd.read_excel(\"CPI2023_Global_Results__Trends.xlsx\",skiprows=3, engine='openpyxl')\n",
    "df_political_stability = pd.read_csv(\"Political Stability and Absence of ViolenceTerrorism Percentile Rank.csv\")\n",
    "\n",
    "# This is for WGI data set we will only be using the regulatory quality\n",
    "df_regulatory_quality = pd.read_excel(\"wgidataset.xlsx\")"
   ]
  },
  {
   "cell_type": "code",
   "execution_count": 1063,
   "metadata": {},
   "outputs": [],
   "source": [
    "#This is the environmental and sustainability\n",
    "\n",
    "df_CO2_emissions = pd.read_csv(\"CO2 Emission.csv\")\n",
    "df_CO2_emissions_per_capita = pd.read_csv(\"CO2 Emission per capita.csv\")\n",
    "df_renewable_energy_consumption = pd.read_csv(\"Renewable energy consumption.csv\")"
   ]
  },
  {
   "cell_type": "markdown",
   "metadata": {},
   "source": [
    "# 3. Imputing of Missing Datas"
   ]
  },
  {
   "cell_type": "code",
   "execution_count": 1064,
   "metadata": {},
   "outputs": [],
   "source": [
    "\n",
    "# This is for the data cleaning process\n",
    "dataframes = [df_gdp_growth_rate, df_gdp_per_capita, df_FCE, df_gov_debt, df_inflation,\n",
    "              df_current_account_balance, df_exports, df_imports, df_labour_force,\n",
    "              df_life_expectancy_at_birth, df_school_enrollment, df_unemployment_rate,\n",
    "              df_access_to_electricity, df_access_to_internet, df_mobile_subscriptions,\n",
    "              df_LPI_Score, df_CPI, df_political_stability, df_regulatory_quality,\n",
    "              df_CO2_emissions, df_CO2_emissions_per_capita, df_renewable_energy_consumption]\n",
    "\n",
    "\n",
    "# This is to remove the unwanted data from the dataframes\n",
    "for df in dataframes:\n",
    "  df.replace([\"..\",\"...\", \"no data\"], pd.NA, inplace=True)  # or np.nan if you're using numpy\n",
    "\n"
   ]
  },
  {
   "cell_type": "code",
   "execution_count": 1065,
   "metadata": {},
   "outputs": [
    {
     "name": "stdout",
     "output_type": "stream",
     "text": [
      "The number of missing values in each dataset:\n",
      "GDP per capita (PPP): 56\n",
      "GDP growth rate: 19\n",
      "Final consumption expenditure: 542\n",
      "Government debt: 7\n",
      "Inflation annually: 84\n",
      "Current account balance: 20\n",
      "Exports of goods and services: 64\n",
      "Imports of goods and services: 64\n",
      "Labour Force Participant Rate: 191\n",
      "Life expectancy at birth: 0\n",
      "School enrollment: 162\n",
      "Unemployment rate: 203\n",
      "Access to electricity: 9\n",
      "Access to internet: 74\n",
      "Mobile cellular subscriptions: 67\n",
      "LPI Score: 0\n",
      "CPI: 1093\n",
      "Political Stability and Absence of ViolenceTerrorism Percentile Rank: 27\n",
      "WGI dataset: 6756\n",
      "CO2 Emission: 0\n",
      "CO2 Emission per capita: 0\n",
      "Renewable energy consumption: 67\n",
      "83\n"
     ]
    }
   ],
   "source": [
    "# Print sum of all missing valeues\n",
    "def check_missing_values():\n",
    "  print(\"The number of missing values in each dataset:\")\n",
    "  print(\"GDP per capita (PPP):\", df_gdp_per_capita.isnull().sum().sum())\n",
    "  print(\"GDP growth rate:\", df_gdp_growth_rate.isnull().sum().sum())\n",
    "  print(\"Final consumption expenditure:\", df_FCE.isnull().sum().sum())\n",
    "  print(\"Government debt:\", df_gov_debt.isnull().sum().sum())\n",
    "  print(\"Inflation annually:\", df_inflation.isnull().sum().sum())\n",
    "  print(\"Current account balance:\", df_current_account_balance.isnull().sum().sum())\n",
    "  print(\"Exports of goods and services:\", df_exports.isnull().sum().sum())\n",
    "  print(\"Imports of goods and services:\", df_imports.isnull().sum().sum())\n",
    "  print(\"Labour Force Participant Rate:\", df_labour_force.isnull().sum().sum())\n",
    "  print(\"Life expectancy at birth:\", df_life_expectancy_at_birth.isnull().sum().sum())\n",
    "  print(\"School enrollment:\", df_school_enrollment.isnull().sum().sum())\n",
    "  print(\"Unemployment rate:\", df_unemployment_rate.isnull().sum().sum())\n",
    "  print(\"Access to electricity:\", df_access_to_electricity.isnull().sum().sum())\n",
    "  print(\"Access to internet:\", df_access_to_internet.isnull().sum().sum())\n",
    "  print(\"Mobile cellular subscriptions:\", df_mobile_subscriptions.isnull().sum().sum())\n",
    "  print(\"LPI Score:\", df_LPI_Score.isnull().sum().sum())\n",
    "  print(\"CPI:\", df_CPI.isnull().sum().sum())\n",
    "  print(\"Political Stability and Absence of ViolenceTerrorism Percentile Rank:\", df_political_stability.isnull().sum().sum())\n",
    "  print(\"WGI dataset:\", df_regulatory_quality.isnull().sum().sum())\n",
    "  print(\"CO2 Emission:\", df_CO2_emissions.isnull().sum().sum())\n",
    "  print(\"CO2 Emission per capita:\", df_CO2_emissions_per_capita.isnull().sum().sum())\n",
    "  print(\"Renewable energy consumption:\", df_renewable_energy_consumption.isnull().sum().sum())\n",
    "  \n",
    "check_missing_values()\n",
    "\n",
    "asian_countries_standard = [\n",
    "    \"Afghanistan\", \"Bangladesh\", \"Bhutan\", \"Brunei\",\n",
    "    \"Cambodia\", \"China\", \"India\", \"Indonesia\", \"Japan\",\n",
    "    \"Kazakhstan\", \"Kyrgyzstan\", \"Laos\", \"Malaysia\", \"Maldives\",\n",
    "    \"Mongolia\", \"Myanmar\", \"Nepal\", \"North Korea\", \"Pakistan\",\n",
    "    \"Philippines\", \"Singapore\", \"South Korea\", \"Sri Lanka\",\n",
    "    \"Taiwan\", \"Tajikistan\", \"Thailand\", \"East Timor\",\n",
    "    \"Turkmenistan\", \"Uzbekistan\", \"Vietnam\", \"Macau\", \"Hong Kong\",\"Afghanistan\",\n",
    "    \"American Samoa\",\n",
    "    \"Australia\",\n",
    "    \"Bangladesh\",\n",
    "    \"Bhutan\",\n",
    "    \"Brunei\",\n",
    "    \"Cambodia\",\n",
    "    \"China\",\n",
    "    \"Fiji\",\n",
    "    \"French Polynesia\",\n",
    "    \"Guam\",\n",
    "    \"Hong Kong\",\n",
    "    \"India\",\n",
    "    \"Indonesia\",\n",
    "    \"Japan\",\n",
    "    \"Kazakhstan\",\n",
    "    \"Kiribati\",\n",
    "    \"North Korea\",\n",
    "    \"South Korea\",\n",
    "    \"Kyrgyzstan\",\n",
    "    \"Laos\",\n",
    "    \"Macau\",\n",
    "    \"Malaysia\",\n",
    "    \"Maldives\",\n",
    "    \"Marshall Islands\",\n",
    "    \"Micronesia\",\n",
    "    \"Mongolia\",\n",
    "    \"Myanmar\",\n",
    "    \"Nauru\",\n",
    "    \"Nepal\",\n",
    "    \"New Caledonia\",\n",
    "    \"New Zealand\",\n",
    "    \"Northern Mariana Islands\",\n",
    "    \"Pakistan\",\n",
    "    \"Palau\",\n",
    "    \"Papua New Guinea\",\n",
    "    \"Philippines\",\n",
    "    \"Samoa\",\n",
    "    \"Singapore\",\n",
    "    \"Solomon Islands\",\n",
    "    \"Sri Lanka\",\n",
    "    \"Tajikistan\",\n",
    "    \"Thailand\",\n",
    "    \"East Timor\",\n",
    "    \"Tonga\",\n",
    "    \"Turkmenistan\",\n",
    "    \"Tuvalu\",\n",
    "    \"Uzbekistan\",\n",
    "    \"Vanuatu\",\n",
    "    \"Vietnam\",\n",
    "    \"Taiwan\"\n",
    "] \n",
    "\n",
    "\n",
    "country_name_mapping = {\n",
    "    \"Brunei Darussalam\": \"Brunei\",\n",
    "    \"Hong Kong SAR\": \"Hong Kong\",\n",
    "    \"Hong Kong SAR, China\": \"Hong Kong\",\n",
    "    \"Hong Kong, China\": \"Hong Kong\",\n",
    "    \"China, People's Republic of\": \"China\",\n",
    "    \"Korea, Republic of\": \"South Korea\",\n",
    "    \"Korea, Rep.\": \"South Korea\",\n",
    "    \"Korea, South\": \"South Korea\",\n",
    "    \"Korea, North\": \"North Korea\",\n",
    "    \"Korea, Dem. Rep.\": \"North Korea\",\n",
    "    \"Korea, Dem. People's Rep.\": \"North Korea\",\n",
    "    \"Lao PDR\": \"Laos\",\n",
    "    \"Lao P.D.R.\": \"Laos\",\n",
    "    \"Lao People's Democratic Republic\": \"Laos\",\n",
    "    \"Taiwan Province of China\": \"Taiwan\",\n",
    "    \"Taiwan, China\": \"Taiwan\",\n",
    "    \"Taipei,China\": \"Taiwan\",\n",
    "    \"Timor-Leste\": \"East Timor\",\n",
    "    \"TC<rkiye\": \"Turkey\",\n",
    "    \"Türkiye, Republic of\": \"Turkey\",\n",
    "    \"Türkiye\": \"Turkey\",\n",
    "    \"TÃ¼rkiye\": \"Turkey\",  # Encoding variant\n",
    "    \"Russian Federation\": \"Russia\",  # Russia is partially in Asia\n",
    "    \"Iran, Islamic Rep.\": \"Iran\",\n",
    "    \"Yemen, Rep.\": \"Yemen\",\n",
    "    \"Kyrgyz Republic\": \"Kyrgyzstan\",\n",
    "    \"Macao SAR\": \"Macau\",\n",
    "    \"Macao SAR, China\": \"Macau\",\n",
    "    \"West Bank and Gaza\": \"Palestine\",\n",
    "    \"Palestine\": \"Palestine\",  # Redundant, but harmless\n",
    "    \"Viet Nam\": \"Vietnam\",\n",
    "    \"Micronesia, Fed. Sts.\": \"Micronesia\"  # Newly added\n",
    "}\n",
    "\n",
    "\n",
    "print(len(asian_countries_standard))"
   ]
  },
  {
   "cell_type": "code",
   "execution_count": 1066,
   "metadata": {},
   "outputs": [],
   "source": [
    "def clean_dataframe(df, value_name):\n",
    "    # Clean column names\n",
    "    df.columns = df.columns.map(str).str.strip()\n",
    "\n",
    "    # Standardize country names before anything else\n",
    "    df[\"Country Name\"] = df[\"Country Name\"].replace(country_name_mapping)\n",
    "    \n",
    "    # Ensure year columns are numeric\n",
    "    year_cols = [str(year) for year in range(2015, 2024) if str(year) in df.columns]\n",
    "    df[year_cols] = df[year_cols].apply(pd.to_numeric, errors='coerce')\n",
    "\n",
    "    # Fill missing 2023 values with the most recent available year's value\n",
    "    def get_latest_value(row):\n",
    "        if pd.isna(row.get(\"2023\")):\n",
    "            for year in reversed(range(2015, 2023)):\n",
    "                val = row.get(str(year))\n",
    "                if pd.notna(val):\n",
    "                    return val\n",
    "        return row.get(\"2023\")\n",
    "\n",
    "    df[\"2023\"] = df.apply(get_latest_value, axis=1)\n",
    "\n",
    "    # Drop rows with no usable 2023 data\n",
    "    df = df.dropna(subset=[\"2023\"])\n",
    "\n",
    "    # Keep only Country Name and 2023 column\n",
    "    df = df[[\"Country Name\", \"2023\"]].rename(columns={\"2023\": value_name})\n",
    "\n",
    "    # Aggregate if duplicates exist\n",
    "    if df.duplicated(subset=[\"Country Name\"]).any():\n",
    "        df = df.groupby(\"Country Name\", as_index=False)[value_name].mean()\n",
    "\n",
    "    return df\n"
   ]
  },
  {
   "cell_type": "code",
   "execution_count": 1067,
   "metadata": {},
   "outputs": [
    {
     "name": "stdout",
     "output_type": "stream",
     "text": [
      "30\n",
      "30\n"
     ]
    }
   ],
   "source": [
    "df_gdp_per_capita = clean_dataframe(df_gdp_per_capita, 'gdp_per_capita_2023')\n",
    "df_gdp_growth_rate = clean_dataframe(df_gdp_growth_rate, 'gdp_growth_rate_2023')\n",
    "df_FCE = clean_dataframe(df_FCE, 'final_consumption_expenditure_2023')\n",
    "print(len(df_gov_debt))\n",
    "df_gov_debt = clean_dataframe(df_gov_debt, 'government_debt_2023')\n",
    "\n",
    "print(len(df_gov_debt))\n",
    "df_inflation = clean_dataframe(df_inflation, 'inflation_rate_2023')\n"
   ]
  },
  {
   "cell_type": "code",
   "execution_count": 1068,
   "metadata": {},
   "outputs": [],
   "source": [
    "df_current_account_balance = clean_dataframe(df_current_account_balance, 'current_account_balance_2023')\n",
    "df_exports = clean_dataframe(df_exports, 'exports_2023')\n",
    "df_imports = clean_dataframe(df_imports, 'imports_2023')\n"
   ]
  },
  {
   "cell_type": "code",
   "execution_count": 1069,
   "metadata": {},
   "outputs": [],
   "source": [
    "df_labour_force = clean_dataframe(df_labour_force, 'labour_force_participation_rate_2023')\n",
    "df_life_expectancy_at_birth = clean_dataframe(df_life_expectancy_at_birth, 'life_expectancy_at_birth_2023')\n",
    "df_school_enrollment = clean_dataframe(df_school_enrollment, 'school_enrollment_rate_2023')\n",
    "df_unemployment_rate = clean_dataframe(df_unemployment_rate, 'unemployment_rate_2023')\n"
   ]
  },
  {
   "cell_type": "code",
   "execution_count": 1070,
   "metadata": {},
   "outputs": [],
   "source": [
    "df_access_to_electricity = clean_dataframe(df_access_to_electricity, 'access_to_electricity_2023')\n",
    "df_access_to_internet = clean_dataframe(df_access_to_internet, 'access_to_internet_2023')\n",
    "df_mobile_subscriptions = clean_dataframe(df_mobile_subscriptions, 'mobile_subscriptions_2023')\n"
   ]
  },
  {
   "cell_type": "code",
   "execution_count": 1071,
   "metadata": {},
   "outputs": [
    {
     "name": "stderr",
     "output_type": "stream",
     "text": [
      "C:\\Users\\DEcla\\AppData\\Local\\Temp\\ipykernel_36416\\2607823054.py:2: SettingWithCopyWarning: \n",
      "A value is trying to be set on a copy of a slice from a DataFrame\n",
      "\n",
      "See the caveats in the documentation: https://pandas.pydata.org/pandas-docs/stable/user_guide/indexing.html#returning-a-view-versus-a-copy\n",
      "  df_LPI_Score.rename(columns={\n",
      "C:\\Users\\DEcla\\AppData\\Local\\Temp\\ipykernel_36416\\2607823054.py:7: SettingWithCopyWarning: \n",
      "A value is trying to be set on a copy of a slice from a DataFrame.\n",
      "Try using .loc[row_indexer,col_indexer] = value instead\n",
      "\n",
      "See the caveats in the documentation: https://pandas.pydata.org/pandas-docs/stable/user_guide/indexing.html#returning-a-view-versus-a-copy\n",
      "  df_LPI_Score[\"Country Name\"] = df_LPI_Score[\"Country Name\"].replace(country_name_mapping)\n"
     ]
    }
   ],
   "source": [
    "df_LPI_Score = df_LPI_Score[[\"Economy\", \"LPI Score\"]]\n",
    "df_LPI_Score.rename(columns={\n",
    "    \"Economy\": \"Country Name\",\n",
    "    \"LPI Score\": \"lpi_score_2023\"\n",
    "}, inplace=True)\n",
    "\n",
    "df_LPI_Score[\"Country Name\"] = df_LPI_Score[\"Country Name\"].replace(country_name_mapping)\n"
   ]
  },
  {
   "cell_type": "code",
   "execution_count": 1072,
   "metadata": {},
   "outputs": [],
   "source": [
    "# CPI DataFrame – include all countries\n",
    "df_CPI = df_CPI[['Country / Territory', 'CPI score 2023']].rename(columns={\n",
    "    \"Country / Territory\": \"Country Name\",\n",
    "    \"CPI score 2023\": \"cpi_score_2023\"\n",
    "})\n",
    "\n",
    "df_CPI[\"Country Name\"] = df_CPI[\"Country Name\"].replace(country_name_mapping)\n",
    "# Political stability (already standardized with your clean_dataframe function)\n",
    "df_political_stability = clean_dataframe(df_political_stability, 'political_stability_2023')\n",
    "\n",
    "# Regulatory quality – no country filter applied\n",
    "df_regulatory_quality = df_regulatory_quality[\n",
    "    (df_regulatory_quality['indicator'] == 'rq') &\n",
    "    (df_regulatory_quality['year'] > 2014) & \n",
    "    (df_regulatory_quality['year'] < 2023)\n",
    "]\n",
    "\n",
    "df_regulatory_quality = (\n",
    "    df_regulatory_quality\n",
    "    .groupby('countryname')['estimate']\n",
    "    .mean()\n",
    "    .reset_index()\n",
    "    .rename(columns={'estimate': 'regulatory_quality_2023', 'countryname': 'Country Name'})\n",
    ")\n",
    "\n",
    "df_regulatory_quality[\"Country Name\"] = df_regulatory_quality[\"Country Name\"].replace(country_name_mapping)"
   ]
  },
  {
   "cell_type": "code",
   "execution_count": 1073,
   "metadata": {},
   "outputs": [],
   "source": [
    "df_CO2_emissions = clean_dataframe(df_CO2_emissions, 'co2_emissions_2023')\n",
    "df_CO2_emissions_per_capita = clean_dataframe(df_CO2_emissions_per_capita, 'co2_emissions_per_capita_2023')\n",
    "df_renewable_energy_consumption = clean_dataframe(df_renewable_energy_consumption, 'renewable_energy_consumption_2023')\n"
   ]
  },
  {
   "cell_type": "code",
   "execution_count": 1074,
   "metadata": {},
   "outputs": [
    {
     "name": "stdout",
     "output_type": "stream",
     "text": [
      "The number of missing values in each dataset:\n",
      "GDP per capita (PPP): 0\n",
      "GDP growth rate: 0\n",
      "Final consumption expenditure: 0\n",
      "Government debt: 0\n",
      "Inflation annually: 0\n",
      "Current account balance: 0\n",
      "Exports of goods and services: 0\n",
      "Imports of goods and services: 0\n",
      "Labour Force Participant Rate: 0\n",
      "Life expectancy at birth: 0\n",
      "School enrollment: 0\n",
      "Unemployment rate: 0\n",
      "Access to electricity: 0\n",
      "Access to internet: 0\n",
      "Mobile cellular subscriptions: 0\n",
      "LPI Score: 0\n",
      "CPI: 0\n",
      "Political Stability and Absence of ViolenceTerrorism Percentile Rank: 0\n",
      "WGI dataset: 1\n",
      "CO2 Emission: 0\n",
      "CO2 Emission per capita: 0\n",
      "Renewable energy consumption: 0\n"
     ]
    }
   ],
   "source": [
    "\n",
    "check_missing_values()\n"
   ]
  },
  {
   "cell_type": "code",
   "execution_count": 1075,
   "metadata": {},
   "outputs": [
    {
     "name": "stdout",
     "output_type": "stream",
     "text": [
      "The number of rows in the merged dataframe: 230\n",
      "The number of columns in the merged dataframe: 23\n",
      "  Country Name  gdp_per_capita_2023  gdp_growth_rate_2023  \\\n",
      "0  Afghanistan          2211.280635              2.710887   \n",
      "1    Australia         70497.152450              3.441992   \n",
      "2   Bangladesh          9147.777507              5.775112   \n",
      "3       Bhutan         15063.810570              5.213868   \n",
      "4       Brunei         85267.553050              1.407068   \n",
      "\n",
      "   final_consumption_expenditure_2023  government_debt_2023  \\\n",
      "0                           53.269473              7.797235   \n",
      "1                           36.084082             34.832823   \n",
      "2                           35.069191             39.336605   \n",
      "3                           49.823243            116.064891   \n",
      "4                           44.481585              2.329216   \n",
      "\n",
      "   inflation_rate_2023  current_account_balance_2023  exports_2023  \\\n",
      "0            -4.644709                    -15.718303     16.775136   \n",
      "1             5.597015                     -0.300085     26.799241   \n",
      "2             9.883503                     -1.646026     13.157164   \n",
      "3             4.229344                    -31.899993     25.498840   \n",
      "4             0.357064                     12.850448     76.534830   \n",
      "\n",
      "   imports_2023  labour_force_participation_rate_2023  ...  \\\n",
      "0     50.498207                             41.906675  ...   \n",
      "1     22.425943                             66.663246  ...   \n",
      "2     17.825808                             61.200000  ...   \n",
      "3     60.072377                             63.100000  ...   \n",
      "4     60.028173                             62.720540  ...   \n",
      "\n",
      "   access_to_electricity_2023  access_to_internet_2023  \\\n",
      "0                        85.3                     17.7   \n",
      "1                       100.0                     97.1   \n",
      "2                        99.5                     44.5   \n",
      "3                       100.0                     88.4   \n",
      "4                       100.0                     99.0   \n",
      "\n",
      "   mobile_subscriptions_2023  lpi_score_2023  cpi_score_2023  \\\n",
      "0                 23000000.0             1.9            20.0   \n",
      "1                 29100000.0             3.7            75.0   \n",
      "2                191000000.0             2.6            24.0   \n",
      "3                   751989.0             2.5            68.0   \n",
      "4                   540706.0             NaN             NaN   \n",
      "\n",
      "   political_stability_2023  regulatory_quality_2023  co2_emissions_2023  \\\n",
      "0                  1.421801                -1.243271              8.7073   \n",
      "1                 79.620850                 1.860924            373.6164   \n",
      "2                 15.639811                 -0.87787            124.7934   \n",
      "3                 83.412323                -0.452816              1.9867   \n",
      "4                 96.682465                 0.797798              9.7161   \n",
      "\n",
      "   co2_emissions_per_capita_2023 renewable_energy_consumption_2023  \n",
      "0                       0.210043                              20.0  \n",
      "1                      14.014672                              12.3  \n",
      "2                       0.727798                              25.0  \n",
      "3                       2.526371                              82.5  \n",
      "4                      21.170326                               0.0  \n",
      "\n",
      "[5 rows x 23 columns]\n"
     ]
    }
   ],
   "source": [
    "merged_df = df_gdp_per_capita.copy()\n",
    "\n",
    "database_to_merge = [\n",
    "    df_gdp_growth_rate, df_FCE, df_gov_debt, df_inflation,\n",
    "    df_current_account_balance, df_exports, df_imports,\n",
    "    df_labour_force, df_life_expectancy_at_birth, df_school_enrollment,\n",
    "    df_unemployment_rate, df_access_to_electricity, df_access_to_internet,\n",
    "    df_mobile_subscriptions, df_LPI_Score, df_CPI, df_political_stability,\n",
    "    df_regulatory_quality, df_CO2_emissions, df_CO2_emissions_per_capita,\n",
    "    df_renewable_energy_consumption\n",
    "]\n",
    "\n",
    "for df in database_to_merge:\n",
    "    merged_df = pd.merge(merged_df, df, on='Country Name', how='outer')\n",
    "    \n",
    "print(\"The number of rows in the merged dataframe:\", merged_df.shape[0])\n",
    "print(\"The number of columns in the merged dataframe:\", merged_df.shape[1])\n",
    "\n",
    "print(merged_df.head())"
   ]
  },
  {
   "cell_type": "code",
   "execution_count": 1076,
   "metadata": {},
   "outputs": [
    {
     "name": "stdout",
     "output_type": "stream",
     "text": [
      "Filtered Asian countries dataframe:\n",
      "Rows: 51\n",
      "Columns: 23\n",
      "  Country Name  gdp_per_capita_2023  gdp_growth_rate_2023  \\\n",
      "0  Afghanistan          2211.280635              2.710887   \n",
      "1    Australia         70497.152450              3.441992   \n",
      "2   Bangladesh          9147.777507              5.775112   \n",
      "3       Bhutan         15063.810570              5.213868   \n",
      "4       Brunei         85267.553050              1.407068   \n",
      "\n",
      "   final_consumption_expenditure_2023  government_debt_2023  \\\n",
      "0                           53.269473              7.797235   \n",
      "1                           36.084082             34.832823   \n",
      "2                           35.069191             39.336605   \n",
      "3                           49.823243            116.064891   \n",
      "4                           44.481585              2.329216   \n",
      "\n",
      "   inflation_rate_2023  current_account_balance_2023  exports_2023  \\\n",
      "0            -4.644709                    -15.718303     16.775136   \n",
      "1             5.597015                     -0.300085     26.799241   \n",
      "2             9.883503                     -1.646026     13.157164   \n",
      "3             4.229344                    -31.899993     25.498840   \n",
      "4             0.357064                     12.850448     76.534830   \n",
      "\n",
      "   imports_2023  labour_force_participation_rate_2023  ...  \\\n",
      "0     50.498207                             41.906675  ...   \n",
      "1     22.425943                             66.663246  ...   \n",
      "2     17.825808                             61.200000  ...   \n",
      "3     60.072377                             63.100000  ...   \n",
      "4     60.028173                             62.720540  ...   \n",
      "\n",
      "   access_to_electricity_2023  access_to_internet_2023  \\\n",
      "0                        85.3                     17.7   \n",
      "1                       100.0                     97.1   \n",
      "2                        99.5                     44.5   \n",
      "3                       100.0                     88.4   \n",
      "4                       100.0                     99.0   \n",
      "\n",
      "   mobile_subscriptions_2023  lpi_score_2023  cpi_score_2023  \\\n",
      "0                 23000000.0             1.9            20.0   \n",
      "1                 29100000.0             3.7            75.0   \n",
      "2                191000000.0             2.6            24.0   \n",
      "3                   751989.0             2.5            68.0   \n",
      "4                   540706.0             NaN             NaN   \n",
      "\n",
      "   political_stability_2023  regulatory_quality_2023  co2_emissions_2023  \\\n",
      "0                  1.421801                -1.243271              8.7073   \n",
      "1                 79.620850                 1.860924            373.6164   \n",
      "2                 15.639811                 -0.87787            124.7934   \n",
      "3                 83.412323                -0.452816              1.9867   \n",
      "4                 96.682465                 0.797798              9.7161   \n",
      "\n",
      "   co2_emissions_per_capita_2023 renewable_energy_consumption_2023  \n",
      "0                       0.210043                              20.0  \n",
      "1                      14.014672                              12.3  \n",
      "2                       0.727798                              25.0  \n",
      "3                       2.526371                              82.5  \n",
      "4                      21.170326                               0.0  \n",
      "\n",
      "[5 rows x 23 columns]\n"
     ]
    }
   ],
   "source": [
    "# Step 1: Apply mapping to standardize country names\n",
    "merged_df[\"Country Name\"] = merged_df[\"Country Name\"].replace(country_name_mapping)\n",
    "\n",
    "# Step 2: Filter to Asian countries only\n",
    "merged_df = merged_df[merged_df[\"Country Name\"].isin(asian_countries_standard)]\n",
    "\n",
    "# Optional: reset index if needed\n",
    "merged_df.reset_index(drop=True, inplace=True)\n",
    "\n",
    "# Final check\n",
    "print(\"Filtered Asian countries dataframe:\")\n",
    "print(\"Rows:\", merged_df.shape[0])\n",
    "print(\"Columns:\", merged_df.shape[1])\n",
    "print(merged_df.head())"
   ]
  },
  {
   "cell_type": "code",
   "execution_count": 1077,
   "metadata": {},
   "outputs": [
    {
     "name": "stdout",
     "output_type": "stream",
     "text": [
      "lpi_score_2023                          23\n",
      "government_debt_2023                    22\n",
      "cpi_score_2023                          15\n",
      "school_enrollment_rate_2023             14\n",
      "inflation_rate_2023                     14\n",
      "current_account_balance_2023            12\n",
      "gdp_per_capita_2023                     12\n",
      "unemployment_rate_2023                  12\n",
      "access_to_internet_2023                 10\n",
      "final_consumption_expenditure_2023      10\n",
      "exports_2023                            10\n",
      "imports_2023                            10\n",
      "mobile_subscriptions_2023                9\n",
      "labour_force_participation_rate_2023     9\n",
      "political_stability_2023                 9\n",
      "access_to_electricity_2023               7\n",
      "gdp_growth_rate_2023                     7\n",
      "co2_emissions_per_capita_2023            6\n",
      "co2_emissions_2023                       6\n",
      "renewable_energy_consumption_2023        6\n",
      "life_expectancy_at_birth_2023            6\n",
      "regulatory_quality_2023                  3\n",
      "Country Name                             0\n",
      "dtype: int64\n"
     ]
    }
   ],
   "source": [
    "print(merged_df.isnull().sum().sort_values(ascending=False))"
   ]
  },
  {
   "cell_type": "code",
   "execution_count": 1078,
   "metadata": {},
   "outputs": [
    {
     "name": "stdout",
     "output_type": "stream",
     "text": [
      "Countries with missing values:\n",
      "                Country Name  missing_values\n",
      "47              Turkmenistan              19\n",
      "49                    Taiwan              18\n",
      "44                Kazakhstan              18\n",
      "48                Uzbekistan              18\n",
      "45                Kyrgyzstan              18\n",
      "46                Tajikistan              18\n",
      "43  Northern Mariana Islands              13\n",
      "39            American Samoa              12\n",
      "50               North Korea              12\n",
      "40          French Polynesia              10\n",
      "42             New Caledonia               9\n",
      "41                      Guam               9\n",
      "19                Micronesia               7\n",
      "36                    Tuvalu               6\n",
      "18          Marshall Islands               5\n",
      "22                     Nauru               4\n",
      "21                   Myanmar               4\n",
      "26                     Palau               4\n",
      "15                     Macau               4\n",
      "27          Papua New Guinea               3\n",
      "12                  Kiribati               3\n",
      "4                     Brunei               2\n",
      "37                   Vanuatu               2\n",
      "35                     Tonga               2\n",
      "29                     Samoa               2\n",
      "6                      China               2\n",
      "31           Solomon Islands               2\n",
      "34                East Timor               1\n",
      "5                   Cambodia               1\n",
      "28               Philippines               1\n",
      "25                  Pakistan               1\n",
      "23                     Nepal               1\n",
      "17                  Maldives               1\n"
     ]
    }
   ],
   "source": [
    "merged_df[\"missing_values\"] = merged_df.isnull().sum(axis=1)\n",
    "\n",
    "missing_data_df = merged_df[merged_df[\"missing_values\"] > 0].copy()\n",
    "\n",
    "print(\"Countries with missing values:\")\n",
    "print(missing_data_df[[\"Country Name\", \"missing_values\"]].sort_values(by=\"missing_values\", ascending=False))\n",
    "\n"
   ]
  },
  {
   "cell_type": "code",
   "execution_count": 1079,
   "metadata": {},
   "outputs": [],
   "source": [
    "merged_df = merged_df[merged_df.isnull().sum(axis=1) <= 5]  # Keep rows with less than 5 NaN values\n",
    "merged_df.drop(columns=[\"missing_values\"], inplace=True)  # Drop the helper column"
   ]
  },
  {
   "cell_type": "code",
   "execution_count": 1080,
   "metadata": {},
   "outputs": [
    {
     "data": {
      "text/plain": [
       "co2_emissions_2023                      5.627267\n",
       "co2_emissions_per_capita_2023           5.083421\n",
       "gdp_growth_rate_2023                    4.815450\n",
       "mobile_subscriptions_2023               4.118899\n",
       "inflation_rate_2023                     2.149389\n",
       "gdp_per_capita_2023                     2.091706\n",
       "exports_2023                            2.040768\n",
       "imports_2023                            1.536153\n",
       "government_debt_2023                    1.452471\n",
       "unemployment_rate_2023                  1.319936\n",
       "final_consumption_expenditure_2023      1.074583\n",
       "renewable_energy_consumption_2023       0.816311\n",
       "cpi_score_2023                          0.798870\n",
       "life_expectancy_at_birth_2023           0.436786\n",
       "lpi_score_2023                         -0.063466\n",
       "political_stability_2023               -0.416211\n",
       "labour_force_participation_rate_2023   -0.483406\n",
       "school_enrollment_rate_2023            -0.549100\n",
       "access_to_internet_2023                -0.616857\n",
       "current_account_balance_2023           -0.998415\n",
       "access_to_electricity_2023             -4.022774\n",
       "dtype: float64"
      ]
     },
     "execution_count": 1080,
     "metadata": {},
     "output_type": "execute_result"
    }
   ],
   "source": [
    "merged_df.skew(numeric_only=True).sort_values(ascending=False)\n"
   ]
  },
  {
   "cell_type": "code",
   "execution_count": 1081,
   "metadata": {},
   "outputs": [],
   "source": [
    "# List of outlier columns\n",
    "outliers_col = [\n",
    "    \"co2_emissions_2023\", \"co2_emissions_per_capita_2023\",\n",
    "    \"gdp_growth_rate_2023\", \"mobile_subscriptions_2023\", \"inflation_rate_2023\",\n",
    "    \"gdp_per_capita_2023\", \"exports_2023\", \"imports_2023\",\n",
    "    \"government_debt_2023\", \"unemployment_rate_2023\",\n",
    "    \"final_consumption_expenditure_2023\"\n",
    "]\n",
    "\n",
    "# Step 1: Handle outlier columns with conditional logic\n",
    "for col in outliers_col:\n",
    "    median_val = merged_df[col].median()\n",
    "    mean_val = merged_df[col].mean()\n",
    "\n",
    "    # Missing values in this column\n",
    "    missing_mask = merged_df[col].isna()\n",
    "\n",
    "    # Rows with missing values in any other outlier columns\n",
    "    other_cols = [c for c in outliers_col if c != col]\n",
    "    outlier_rows = merged_df[other_cols].isna().any(axis=1)\n",
    "\n",
    "    # Fill using median for outlier rows\n",
    "    merged_df.loc[missing_mask & outlier_rows, col] = median_val\n",
    "\n",
    "    # Fill using mean for non-outlier rows\n",
    "    merged_df.loc[missing_mask & ~outlier_rows, col] = mean_val\n",
    "\n",
    "# Step 2: Fill all other columns (not in outliers_col) with mean\n",
    "for col in merged_df.columns:\n",
    "    if col not in outliers_col and merged_df[col].dtype in ['float64', 'int64']:\n",
    "        mean_val = merged_df[col].mean()\n",
    "        merged_df[col] = merged_df[col].fillna(mean_val)\n"
   ]
  },
  {
   "cell_type": "code",
   "execution_count": null,
   "metadata": {},
   "outputs": [],
   "source": []
  }
 ],
 "metadata": {
  "kernelspec": {
   "display_name": "Python 3",
   "language": "python",
   "name": "python3"
  },
  "language_info": {
   "codemirror_mode": {
    "name": "ipython",
    "version": 3
   },
   "file_extension": ".py",
   "mimetype": "text/x-python",
   "name": "python",
   "nbconvert_exporter": "python",
   "pygments_lexer": "ipython3",
   "version": "3.10.7"
  }
 },
 "nbformat": 4,
 "nbformat_minor": 2
}
